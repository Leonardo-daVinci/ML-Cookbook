{
 "cells": [
  {
   "cell_type": "markdown",
   "id": "8123f3b4",
   "metadata": {},
   "source": [
    "# K-Nearest Neighbors from Scratch\n",
    "\n",
    "**Note:**  \n",
    "If you want to learn more details about the algorithm, follow the blog below:\n",
    "\n",
    "<br>\n",
    "\n",
    "<a href=\"https://keoliya.hashnode.dev/simple-k-nearest-neighbors-recipe\">\n",
    "<img src=\"https://keoliya.hashnode.dev/_next/image?url=https%3A%2F%2Fcdn.hashnode.com%2Fres%2Fhashnode%2Fimage%2Fupload%2Fv1672128080283%2F02d91e86-852b-45a1-a350-92749a634f09.png%3Fw%3D1600%26h%3D840%26fit%3Dcrop%26crop%3Dentropy%26auto%3Dcompress%2Cformat%26format%3Dwebp&w=1920&q=75\" height=\"800\" width=\"800\"/></a>"
   ]
  },
  {
   "cell_type": "markdown",
   "id": "a71a47e6",
   "metadata": {},
   "source": [
    "## Ingredients"
   ]
  },
  {
   "cell_type": "code",
   "execution_count": 3,
   "id": "825754d8",
   "metadata": {},
   "outputs": [
    {
     "data": {
      "text/html": [
       "<div>\n",
       "<style scoped>\n",
       "    .dataframe tbody tr th:only-of-type {\n",
       "        vertical-align: middle;\n",
       "    }\n",
       "\n",
       "    .dataframe tbody tr th {\n",
       "        vertical-align: top;\n",
       "    }\n",
       "\n",
       "    .dataframe thead th {\n",
       "        text-align: right;\n",
       "    }\n",
       "</style>\n",
       "<table border=\"1\" class=\"dataframe\">\n",
       "  <thead>\n",
       "    <tr style=\"text-align: right;\">\n",
       "      <th></th>\n",
       "      <th>sepal length (cm)</th>\n",
       "      <th>sepal width (cm)</th>\n",
       "      <th>petal length (cm)</th>\n",
       "      <th>petal width (cm)</th>\n",
       "      <th>target</th>\n",
       "    </tr>\n",
       "  </thead>\n",
       "  <tbody>\n",
       "    <tr>\n",
       "      <th>0</th>\n",
       "      <td>5.1</td>\n",
       "      <td>3.5</td>\n",
       "      <td>1.4</td>\n",
       "      <td>0.2</td>\n",
       "      <td>0</td>\n",
       "    </tr>\n",
       "    <tr>\n",
       "      <th>1</th>\n",
       "      <td>4.9</td>\n",
       "      <td>3.0</td>\n",
       "      <td>1.4</td>\n",
       "      <td>0.2</td>\n",
       "      <td>0</td>\n",
       "    </tr>\n",
       "    <tr>\n",
       "      <th>2</th>\n",
       "      <td>4.7</td>\n",
       "      <td>3.2</td>\n",
       "      <td>1.3</td>\n",
       "      <td>0.2</td>\n",
       "      <td>0</td>\n",
       "    </tr>\n",
       "    <tr>\n",
       "      <th>3</th>\n",
       "      <td>4.6</td>\n",
       "      <td>3.1</td>\n",
       "      <td>1.5</td>\n",
       "      <td>0.2</td>\n",
       "      <td>0</td>\n",
       "    </tr>\n",
       "    <tr>\n",
       "      <th>4</th>\n",
       "      <td>5.0</td>\n",
       "      <td>3.6</td>\n",
       "      <td>1.4</td>\n",
       "      <td>0.2</td>\n",
       "      <td>0</td>\n",
       "    </tr>\n",
       "  </tbody>\n",
       "</table>\n",
       "</div>"
      ],
      "text/plain": [
       "   sepal length (cm)  sepal width (cm)  petal length (cm)  petal width (cm)  \\\n",
       "0                5.1               3.5                1.4               0.2   \n",
       "1                4.9               3.0                1.4               0.2   \n",
       "2                4.7               3.2                1.3               0.2   \n",
       "3                4.6               3.1                1.5               0.2   \n",
       "4                5.0               3.6                1.4               0.2   \n",
       "\n",
       "   target  \n",
       "0       0  \n",
       "1       0  \n",
       "2       0  \n",
       "3       0  \n",
       "4       0  "
      ]
     },
     "execution_count": 3,
     "metadata": {},
     "output_type": "execute_result"
    }
   ],
   "source": [
    "from sklearn import datasets\n",
    "import pandas as pd\n",
    "\n",
    "iris = datasets.load_iris()\n",
    "df = pd.DataFrame(data=iris.data, columns=iris.feature_names)\n",
    "df['target'] = iris.target\n",
    "df.head()"
   ]
  },
  {
   "cell_type": "code",
   "execution_count": 4,
   "id": "1b82a834",
   "metadata": {},
   "outputs": [],
   "source": [
    "import random\n",
    "from math import floor\n",
    "import numpy as np\n",
    "\n",
    "def split_dataset(dataset, test_size):\n",
    "    df = dataset.sample(frac=1)\n",
    "    \n",
    "    X = df.drop('target', axis=1)\n",
    "    y = list(df['target'])\n",
    "    \n",
    "    pivot = floor(len(X) * (1-test_size))\n",
    "    \n",
    "    X_train = np.array(X.iloc[:pivot,:])\n",
    "    X_test = np.array(X.iloc[pivot:,:])\n",
    "    \n",
    "    y_train, y_test = y[:pivot], y[pivot:]\n",
    "    \n",
    "    return X_train, X_test, y_train, y_test\n",
    "\n",
    "X_train, X_test, y_train, y_test = split_dataset(df, test_size=0.25)"
   ]
  },
  {
   "cell_type": "markdown",
   "id": "b60bda24",
   "metadata": {},
   "source": [
    "## Equipment"
   ]
  },
  {
   "cell_type": "code",
   "execution_count": 1,
   "id": "97dd7088",
   "metadata": {},
   "outputs": [],
   "source": [
    "from math import sqrt\n",
    "\n",
    "def euclidean_dist(vec1, vec2):\n",
    "    distance = 0\n",
    "    dimen = len(vec1) \n",
    "    \n",
    "    for i in range(dimen):\n",
    "        distance += (vec1[i] - vec2[i])**2\n",
    "        \n",
    "    return sqrt(distance)"
   ]
  },
  {
   "cell_type": "code",
   "execution_count": 2,
   "id": "f2e47aaa",
   "metadata": {},
   "outputs": [],
   "source": [
    "def find_neighbors(point, X_train, y_train, k):\n",
    "    distances = list()\n",
    "    \n",
    "    for i in range(len(X_train)):\n",
    "        distance = euclidean_dist(point, X_train[i])\n",
    "        distances.append((y_train[i], distance))\n",
    "        \n",
    "    distances.sort(key=lambda x:x[1])\n",
    "    \n",
    "    neighbors = list()\n",
    "    \n",
    "    for i in range(k):\n",
    "        neighbors.append(distances[i][0])\n",
    "        \n",
    "    return neighbors\n",
    "    "
   ]
  },
  {
   "cell_type": "markdown",
   "id": "a4b920c8",
   "metadata": {},
   "source": [
    "## Directions"
   ]
  },
  {
   "cell_type": "code",
   "execution_count": 5,
   "id": "447aa5f2",
   "metadata": {},
   "outputs": [],
   "source": [
    "def knn(X_train, X_test, y_train, y_test, k):\n",
    "    y_hat = list()\n",
    "    for i in range(len(X_test)):\n",
    "        neighbors = find_neighbors(X_test[i], X_train, y_train, k)\n",
    "        prediction = max(set(neighbors), key = neighbors.count)\n",
    "        y_hat.append(prediction)\n",
    "    return y_hat"
   ]
  },
  {
   "cell_type": "code",
   "execution_count": 6,
   "id": "a8b4a0fb",
   "metadata": {},
   "outputs": [
    {
     "name": "stdout",
     "output_type": "stream",
     "text": [
      "[2, 1, 0, 2, 1, 1, 0, 2, 2, 2, 1, 1, 0, 0, 2, 2, 0, 1, 2, 0, 1, 0, 0, 2, 2, 1, 2, 2, 2, 2, 0, 1, 0, 0, 1, 2, 2, 0]\n"
     ]
    }
   ],
   "source": [
    "y_hat_test = knn(X_train, X_test, y_train, y_test, 5)\n",
    "print(y_hat_test)"
   ]
  },
  {
   "cell_type": "markdown",
   "id": "b3f086d5",
   "metadata": {},
   "source": [
    "## Tasting"
   ]
  },
  {
   "cell_type": "code",
   "execution_count": 7,
   "id": "48c0847a",
   "metadata": {},
   "outputs": [
    {
     "name": "stdout",
     "output_type": "stream",
     "text": [
      "0.9473684210526315\n"
     ]
    }
   ],
   "source": [
    "def accuracy(actual, predicted):\n",
    "    correct  = sum([1 for i in range(len(actual)) \n",
    "                    if actual[i]==predicted[i] ])\n",
    "    return correct/len(actual)\n",
    "\n",
    "print(accuracy(y_test,y_hat_test))"
   ]
  },
  {
   "cell_type": "markdown",
   "id": "48e7424e",
   "metadata": {},
   "source": [
    "# Advanced (Ready-Made) Method"
   ]
  },
  {
   "cell_type": "code",
   "execution_count": 8,
   "id": "7b0ebcb4",
   "metadata": {},
   "outputs": [],
   "source": [
    "from sklearn.model_selection import train_test_split\n",
    "from sklearn.preprocessing import StandardScaler\n",
    "\n",
    "X = df.drop('target', axis=1)\n",
    "y = df['target']\n",
    "\n",
    "X_train, X_test, y_train, y_test = train_test_split(X, y, test_size=0.25, random_state=1)\n",
    "\n",
    "scaler = StandardScaler()\n",
    "X_train = scaler.fit_transform(X_train)\n",
    "X_test = scaler.fit_transform(X_test)"
   ]
  },
  {
   "cell_type": "code",
   "execution_count": 9,
   "id": "83082eb5",
   "metadata": {},
   "outputs": [
    {
     "name": "stdout",
     "output_type": "stream",
     "text": [
      "Sklearn KNN Accuracy: 0.9473684210526315\n"
     ]
    }
   ],
   "source": [
    "from sklearn.neighbors import KNeighborsClassifier\n",
    "from sklearn.metrics import accuracy_score\n",
    "\n",
    "clf = KNeighborsClassifier(n_neighbors=5, p=2)\n",
    "clf.fit(X_train, y_train)\n",
    "y_pred_test = clf.predict(X_test)\n",
    "\n",
    "print(f\"Sklearn KNN Accuracy: {accuracy_score(y_test, y_pred_test)}\")"
   ]
  },
  {
   "cell_type": "markdown",
   "id": "ad0dcc7b",
   "metadata": {},
   "source": [
    "# Complete Code"
   ]
  },
  {
   "cell_type": "code",
   "execution_count": 22,
   "id": "bcdca5aa",
   "metadata": {},
   "outputs": [
    {
     "name": "stdout",
     "output_type": "stream",
     "text": [
      "0.9473684210526315\n"
     ]
    }
   ],
   "source": [
    "from sklearn import datasets\n",
    "import pandas as pd\n",
    "import random\n",
    "from math import floor, sqrt\n",
    "import numpy as np\n",
    "\n",
    "# ----- Preparing Training and Test Datasets ----- #\n",
    "def split_dataset(dataset, test_size):\n",
    "    df = dataset.sample(frac=1)\n",
    "    X = df.drop('target', axis=1)\n",
    "    y = list(df['target'])\n",
    "    pivot = floor(len(X) * (1-test_size))\n",
    "    X_train = np.array(X.iloc[:pivot,:])\n",
    "    X_test = np.array(X.iloc[pivot:,:])\n",
    "    y_train, y_test = y[:pivot], y[pivot:]\n",
    "    return X_train, X_test, y_train, y_test\n",
    "\n",
    "# ----- Calculating distance between points ----- #\n",
    "def euclidean_dist(vec1, vec2):\n",
    "    distance = 0\n",
    "    dimen = len(vec1)\n",
    "    for i in range(dimen):\n",
    "        distance += (vec1[i]-vec2[i])**2\n",
    "    return sqrt(distance)\n",
    "\n",
    "# ----- Finding k closest points ----- \n",
    "def find_neighbors(point, X_train, y_train, k):\n",
    "    distances = list()\n",
    "    for i in range(len(X_train)):\n",
    "        distance = euclidean_dist(point, X_train[i])\n",
    "        distances.append((y_train[i], distance))      \n",
    "    distances.sort(key=lambda x:x[1])\n",
    "    neighbors = list()\n",
    "    for i in range(k):\n",
    "        neighbors.append(distances[i][0])\n",
    "    return neighbors\n",
    "\n",
    "# ----- Predicting class based on highest vote by neighbors ----- #\n",
    "def knn_classifier(X_train, X_test, y_train, y_test, k):\n",
    "    y_hat = list()\n",
    "    for i in range(len(X_test)):\n",
    "        neighbors = find_neighbors(X_test[i], X_train, y_train, k)\n",
    "        prediction = max(set(neighbors), key = neighbors.count)\n",
    "        y_hat.append(prediction)\n",
    "    return y_hat\n",
    "\n",
    "# ----- Calculating accuracy of the model ---- #\n",
    "def accuracy(actual, predicted):\n",
    "    correct  = sum([1 for i in range(len(actual)) \n",
    "                          if actual[i]==predicted[i]])\n",
    "    return correct/len(actual)\n",
    "\n",
    "\n",
    "# --------------- MAIN PROGRAM EXECUTION --------------- #\n",
    "\n",
    "# ---- Getting data and creating splits ----- #\n",
    "iris = datasets.load_iris()\n",
    "dataset = pd.DataFrame(data=iris.data, columns=iris.feature_names)\n",
    "dataset['target'] = iris.target\n",
    "X_train, X_test, y_train, y_test = split_dataset(dataset, test_size=0.25)\n",
    "\n",
    "# ----- Applying KNN algorithm and calculating accuracy ----- #\n",
    "y_hat_test = knn_classifier(X_train, X_test, y_train, y_test, 5)\n",
    "print(accuracy(y_test,y_hat_test))"
   ]
  },
  {
   "cell_type": "code",
   "execution_count": null,
   "id": "056facdc",
   "metadata": {},
   "outputs": [],
   "source": []
  }
 ],
 "metadata": {
  "kernelspec": {
   "display_name": "Python 3 (ipykernel)",
   "language": "python",
   "name": "python3"
  },
  "language_info": {
   "codemirror_mode": {
    "name": "ipython",
    "version": 3
   },
   "file_extension": ".py",
   "mimetype": "text/x-python",
   "name": "python",
   "nbconvert_exporter": "python",
   "pygments_lexer": "ipython3",
   "version": "3.9.12"
  }
 },
 "nbformat": 4,
 "nbformat_minor": 5
}
