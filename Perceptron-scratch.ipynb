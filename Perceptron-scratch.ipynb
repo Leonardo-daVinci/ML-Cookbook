{
 "cells": [
  {
   "cell_type": "markdown",
   "id": "b3c97860",
   "metadata": {},
   "source": [
    "# Perceptron Algorithm from Scratch"
   ]
  },
  {
   "cell_type": "markdown",
   "id": "127d51aa",
   "metadata": {},
   "source": [
    "## Ingredients"
   ]
  },
  {
   "cell_type": "code",
   "execution_count": 2,
   "id": "f02ea5c6",
   "metadata": {},
   "outputs": [
    {
     "data": {
      "text/plain": [
       "array([[ 1.67259657,  0.40835454,  0.        ],\n",
       "       [ 1.53634432,  0.83432141,  0.        ],\n",
       "       [ 5.77735008,  6.02352774,  1.        ],\n",
       "       [ 2.68151982, -0.57319105,  0.        ],\n",
       "       [-0.2895593 ,  1.57850115,  0.        ]])"
      ]
     },
     "execution_count": 2,
     "metadata": {},
     "output_type": "execute_result"
    }
   ],
   "source": [
    "import numpy as np\n",
    "from numpy.random import normal\n",
    "import random\n",
    "\n",
    "def make_dataset(center1, center2, num_examples):\n",
    "    dataset = list()\n",
    "    \n",
    "    # features for Class 0\n",
    "    f1 = normal(loc=center1, size=num_examples)\n",
    "    f2 = normal(loc=center1, size=num_examples)\n",
    "\n",
    "    # features for Class 1\n",
    "    f3 = normal(loc=center2, size=num_examples)\n",
    "    f4 = normal(loc=center2, size=num_examples) \n",
    "    \n",
    "    # Adding features and corresponding class to the dataset\n",
    "    for i in range(num_examples):\n",
    "        dataset.append([f1[i], f2[i], 0])\n",
    "        dataset.append([f3[i], f4[i], 1])\n",
    "    \n",
    "    # shuffling dataset to remove bias    \n",
    "    random.shuffle(dataset)\n",
    "    return np.array(dataset)\n",
    "\n",
    "myDataset = make_dataset(center1=0, center2=5, num_examples=50)\n",
    "myDataset[:5]"
   ]
  },
  {
   "cell_type": "code",
   "execution_count": 3,
   "id": "a022c60f",
   "metadata": {},
   "outputs": [
    {
     "data": {
      "image/png": "[encoded data removed]",
      "text/plain": [
       "<Figure size 432x288 with 1 Axes>"
      ]
     },
     "metadata": {
      "needs_background": "light"
     },
     "output_type": "display_data"
    }
   ],
   "source": [
    "import matplotlib.pyplot as plt\n",
    "\n",
    "def plot_dataset(dataset):\n",
    "    # extracting features and classes (labels) from dataset\n",
    "    feature1 = dataset[:, 0]\n",
    "    feature2 = dataset[:, 1]\n",
    "    label = dataset[:, -1]\n",
    "    \n",
    "    # adding the points as scatter plot with different colors\n",
    "    plt.scatter(feature1[label==0], feature2[label==0], c='r')\n",
    "    plt.scatter(feature1[label==1], feature2[label==1], c='b')\n",
    "    plt.legend([\"Class 1\", \"Class 2\"])\n",
    "    plt.show()\n",
    "\n",
    "plot_dataset(myDataset)"
   ]
  },
  {
   "cell_type": "code",
   "execution_count": 4,
   "id": "c771ff9c",
   "metadata": {},
   "outputs": [],
   "source": [
    "from math import floor\n",
    "def split_dataset(dataset, test_size):\n",
    "    # Calculating the point of split in the dataset\n",
    "    pivot = floor(len(dataset) * (1 - test_size))\n",
    "    \n",
    "    # Labels are the last entries in dataset, remaining are features\n",
    "    X = [example[:-1] for example in dataset]\n",
    "    y = [example[-1] for example in dataset]\n",
    "    \n",
    "    # Points before the pivot go to training set, rest to testing set\n",
    "    X_train = np.array(X[:pivot])\n",
    "    X_test = np.array(X[pivot:])\n",
    "    y_train = y[:pivot]\n",
    "    y_test = y[pivot:]\n",
    "    \n",
    "    return X_train, X_test, y_train, y_test\n",
    "\n",
    "X_train, X_test, y_train, y_test = split_dataset(myDataset, test_size = 0.2)"
   ]
  },
  {
   "cell_type": "markdown",
   "id": "af7dba45",
   "metadata": {},
   "source": [
    "## Equipment"
   ]
  },
  {
   "cell_type": "code",
   "execution_count": 5,
   "id": "ffac3ed8",
   "metadata": {},
   "outputs": [],
   "source": [
    "def weighted_sum(weights, bias, inputs):\n",
    "    summation = 0\n",
    "    \n",
    "    for i in range(len(weights)):\n",
    "        summation += weights[i] * inputs[i]\n",
    "        \n",
    "    return summation + bias"
   ]
  },
  {
   "cell_type": "code",
   "execution_count": 6,
   "id": "5e41be23",
   "metadata": {},
   "outputs": [],
   "source": [
    "def threshold(summation):\n",
    "    if summation > 0:\n",
    "        return 1\n",
    "    else:\n",
    "        return 0"
   ]
  },
  {
   "cell_type": "code",
   "execution_count": 7,
   "id": "2dd22cb8",
   "metadata": {},
   "outputs": [],
   "source": [
    "def activation(weights, bias, inputs):\n",
    "    # calculating weighted sum\n",
    "    weighted_sum = sum([weights[i] * inputs[i] for i in range(len(weights))])\n",
    "    weighted_sum += bias\n",
    "    \n",
    "    # perceptron fires if weighted sum is above 0 \n",
    "    return 1 if weighted_sum > 0 else 0"
   ]
  },
  {
   "cell_type": "markdown",
   "id": "8ebd76a3",
   "metadata": {},
   "source": [
    "## Directions"
   ]
  },
  {
   "cell_type": "code",
   "execution_count": 8,
   "id": "6975fabe",
   "metadata": {},
   "outputs": [],
   "source": [
    "def train(weights, bias, X, y, lr = 1, epochs = 100):\n",
    "    for _ in range(epochs):\n",
    "        for i in range(len(X)):\n",
    "            # Calculating activation for each training dataset example\n",
    "            example = X[i]\n",
    "            y_pred = activation(weights, bias, example)\n",
    "            \n",
    "            # Updating the weights and bias using update rule\n",
    "            for j in range(len(weights)):\n",
    "                weights[j] += lr * (y[i] - y_pred) * example[j]\n",
    "            \n",
    "            bias += lr * (y[i] - y_pred)\n",
    "    return weights, bias\n",
    "\n",
    "# Shape of weights is determined by number of features. \n",
    "# X_train has shape (num_training_examples, features)\n",
    "weights = np.random.rand(X_train.shape[1])\n",
    "bias = 0\n",
    "\n",
    "# Training the perceptron\n",
    "new_weights, new_bias = train(weights, bias, X_train, y_train)\n",
    "\n",
    "# Calculating activation of each test point as prediction\n",
    "predictions = [activation(new_weights, new_bias, X_test[i]) \n",
    "                                    for i in range(len(X_test))]"
   ]
  },
  {
   "cell_type": "code",
   "execution_count": 9,
   "id": "c567abcd",
   "metadata": {},
   "outputs": [
    {
     "name": "stdout",
     "output_type": "stream",
     "text": [
      "1.0\n"
     ]
    }
   ],
   "source": [
    "def accuracy(actual, predicted):\n",
    "    correct  = sum([1 for i in range(len(actual)) \n",
    "                          if actual[i]==predicted[i] ])\n",
    "    return correct/len(actual)\n",
    "\n",
    "print(accuracy(y_test, predictions))"
   ]
  },
  {
   "cell_type": "code",
   "execution_count": 10,
   "id": "7f80b133",
   "metadata": {},
   "outputs": [
    {
     "data": {
      "image/png": "[encoded data removed]",
      "text/plain": [
       "<Figure size 432x288 with 1 Axes>"
      ]
     },
     "metadata": {
      "needs_background": "light"
     },
     "output_type": "display_data"
    }
   ],
   "source": [
    "# equation = w1x + w2y + b = 0\n",
    "# y = (-b - w1x)/w2\n",
    "def decision_boundary(dataset, weights, bias):\n",
    "    # Selecting range of X-coordinate\n",
    "    x = np.linspace(-4, 10, 100)\n",
    "\n",
    "    # Simplifying decision boundary equation for Y-coordinate\n",
    "    y = (-bias - weights[0] * x)/weights[1]\n",
    "    plt.plot(x, y)\n",
    "    \n",
    "    # Plotting the points in dataset\n",
    "    f1, f2 = dataset[:, 0], dataset[:, 1]\n",
    "    label = dataset[:, -1]\n",
    "    plt.scatter(f1[label==0], f2[label==0], c='r')\n",
    "    plt.scatter(f1[label==1], f2[label==1], c='b')\n",
    "    plt.legend([\"Decision Boundary\", \"Class 0\", \"Class 1\"])\n",
    "    plt.show()\n",
    "\n",
    "decision_boundary(myDataset, new_weights, new_bias)"
   ]
  },
  {
   "cell_type": "markdown",
   "id": "7f085c85",
   "metadata": {},
   "source": [
    "# Complete Code \n",
    "\n",
    "Let us combine all the steps in the recipe into a single Perceptron class."
   ]
  },
  {
   "cell_type": "code",
   "execution_count": 1,
   "id": "0d441b26",
   "metadata": {},
   "outputs": [
    {
     "data": {
      "image/png": "[encoded data removed]",
      "text/plain": [
       "<Figure size 432x288 with 1 Axes>"
      ]
     },
     "metadata": {
      "needs_background": "light"
     },
     "output_type": "display_data"
    },
    {
     "name": "stdout",
     "output_type": "stream",
     "text": [
      "Accuracy of the model is 100.0 %!\n"
     ]
    },
    {
     "data": {
      "image/png": "[encoded data removed]",
      "text/plain": [
       "<Figure size 432x288 with 1 Axes>"
      ]
     },
     "metadata": {
      "needs_background": "light"
     },
     "output_type": "display_data"
    }
   ],
   "source": [
    "import numpy as np\n",
    "from numpy.random import normal\n",
    "import random\n",
    "import matplotlib.pyplot as plt\n",
    "from math import floor\n",
    "\n",
    "# ----- Defining the Perceptron Class ----- #\n",
    "class Perceptron:\n",
    "    def __init__(self, num_features):\n",
    "        self.weights = np.random.rand(num_features)\n",
    "        self.bias = 0\n",
    "\n",
    "    def activation(self, inputs):\n",
    "        weighted_sum = sum([self.weights[i] * inputs[i] \n",
    "                                for i in range(len(self.weights))])\n",
    "        return 1 if weighted_sum + self.bias > 0 else 0\n",
    "\n",
    "    def train(self, inputs, labels, lr = 1, epochs = 100):\n",
    "        for _ in range(epochs):\n",
    "            for i in range(len(inputs)):\n",
    "                example = inputs[i]\n",
    "                y_pred = self.activation(example)\n",
    "\n",
    "                for j in range(len(self.weights)):\n",
    "                    self.weights[j] += lr * (labels[i] - y_pred) * example[j]\n",
    "\n",
    "                self.bias += lr * (labels[i] - y_pred)\n",
    "\n",
    "# ----- Creating a dataset with two classes ----- #\n",
    "def make_dataset(center1, center2, num_examples):\n",
    "    dataset = list()\n",
    "    f1 = normal(loc=center1, size=num_examples)\n",
    "    f2 = normal(loc=center1, size=num_examples)\n",
    "    f3 = normal(loc=center2, size=num_examples)\n",
    "    f4 = normal(loc=center2, size=num_examples) \n",
    "    for i in range(num_examples):\n",
    "        dataset.append([f1[i], f2[i], 0])\n",
    "        dataset.append([f3[i], f4[i], 1])   \n",
    "    random.shuffle(dataset)\n",
    "    return np.array(dataset)\n",
    "\n",
    "# ----- Preparing Training and Test Datasets ----- #\n",
    "def split_dataset(dataset, test_size):\n",
    "    pivot = floor(len(dataset) * (1 - test_size))\n",
    "    X = [example[:-1] for example in dataset]\n",
    "    y = [example[-1] for example in dataset]\n",
    "    X_train, X_test = np.array(X[:pivot]), np.array(X[pivot:])\n",
    "    y_train, y_test = y[:pivot], y[pivot:]\n",
    "    return X_train, X_test, y_train, y_test\n",
    "\n",
    "# ----- Plotting Dataset Points ----- #\n",
    "def plot_dataset(dataset):\n",
    "    feature1 = dataset[:, 0]\n",
    "    feature2 = dataset[:, 1]\n",
    "    label = dataset[:, -1]\n",
    "    plt.scatter(feature1[label==0], feature2[label==0], c='r')\n",
    "    plt.scatter(feature1[label==1], feature2[label==1], c='b')\n",
    "    plt.legend([\"Class 0\", \"Class 1\"])\n",
    "    plt.show()\n",
    "\n",
    "# ----- Plotting Decision boundary with Dataset points ----- #\n",
    "def decision_boundary(dataset, weights, bias):\n",
    "    x = np.linspace(-2, 8, 100)\n",
    "    y = (-bias - weights[0] * x)/weights[1]\n",
    "    plt.plot(x, y)\n",
    "    f1, f2 = dataset[:, 0], dataset[:, 1]\n",
    "    label = dataset[:, -1]\n",
    "    plt.scatter(f1[label==0], f2[label==0], c='r')\n",
    "    plt.scatter(f1[label==1], f2[label==1], c='b')\n",
    "    plt.legend([\"Decision Boundary\", \"Class 0\", \"Class 1\"])\n",
    "    plt.show()\n",
    "\n",
    "# ----- Calculating accuracy of the model ---- #\n",
    "def accuracy(actual, predicted):\n",
    "    correct  = sum([1 for i in range(len(actual)) \n",
    "                          if actual[i]==predicted[i]])\n",
    "    return correct/len(actual)\n",
    "\n",
    "\n",
    "# --------------- MAIN PROGRAM EXECUTION --------------- #\n",
    "\n",
    "# ----- Creating Dataset and training/testing splits -----#\n",
    "myDataset = make_dataset(center1=0, center2=5, num_examples=50)\n",
    "X_train, X_test, y_train, y_test = split_dataset(myDataset, test_size = 0.2)\n",
    "\n",
    "# ----- Plotting points for visualization ----- #\n",
    "plot_dataset(myDataset)\n",
    "\n",
    "# ----- Using Perceptron Class to learn decision boundary ----- #\n",
    "myPerceptron = Perceptron(num_features = X_train.shape[1])\n",
    "myPerceptron.train(X_train, y_train, lr = 1, epochs = 100)\n",
    "\n",
    "# ----- Calculating accuracy of our Perceptron ----- #\n",
    "predictions = [myPerceptron.activation(X_test[i]) \n",
    "                                 for i in range(len(X_test))]\n",
    "print(f\"Accuracy of the model is {accuracy(y_test, predictions) * 100} %!\")\n",
    "\n",
    "# ----- Plotting the decision boundary ----- #\n",
    "decision_boundary(myDataset, myPerceptron.weights, myPerceptron.bias)"
   ]
  },
  {
   "cell_type": "code",
   "execution_count": null,
   "id": "8da5e723",
   "metadata": {},
   "outputs": [],
   "source": []
  }
 ],
 "metadata": {
  "kernelspec": {
   "display_name": "Python 3 (ipykernel)",
   "language": "python",
   "name": "python3"
  },
  "language_info": {
   "codemirror_mode": {
    "name": "ipython",
    "version": 3
   },
   "file_extension": ".py",
   "mimetype": "text/x-python",
   "name": "python",
   "nbconvert_exporter": "python",
   "pygments_lexer": "ipython3",
   "version": "3.9.12"
  }
 },
 "nbformat": 4,
 "nbformat_minor": 5
}
