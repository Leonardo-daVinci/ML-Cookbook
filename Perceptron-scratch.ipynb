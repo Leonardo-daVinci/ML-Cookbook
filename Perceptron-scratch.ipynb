{
 "cells": [
  {
   "cell_type": "markdown",
   "id": "b3c97860",
   "metadata": {},
   "source": [
    "# Perceptron Algorithm from Scratch"
   ]
  },
  {
   "cell_type": "markdown",
   "id": "127d51aa",
   "metadata": {},
   "source": [
    "## Ingredients"
   ]
  },
  {
   "cell_type": "code",
   "execution_count": 5,
   "id": "f02ea5c6",
   "metadata": {},
   "outputs": [],
   "source": [
    "import numpy as np"
   ]
  },
  {
   "cell_type": "markdown",
   "id": "5af0b4ab",
   "metadata": {},
   "source": [
    "## Equipment"
   ]
  },
  {
   "cell_type": "code",
   "execution_count": 6,
   "id": "04bab03e",
   "metadata": {},
   "outputs": [],
   "source": [
    "def weighted_sum(weights, inputs):\n",
    "    summation = 0\n",
    "    \n",
    "    for i in range(len(weights)):\n",
    "        summation += weights[i] * inputs[i]\n",
    "        \n",
    "    return summation\n",
    "\n",
    "def threshold(summation):\n",
    "    if summation > 0:\n",
    "        return 1\n",
    "    else:\n",
    "        return 0\n",
    "    \n",
    "# Combined perceptron activation\n",
    "def activation(weights, bias, inputs):\n",
    "    weighted_sum = sum([weights[i]*inputs[i] for i in range(len(weights))]) + bias\n",
    "    return 1 if weighted_sum > 0 else 0"
   ]
  },
  {
   "cell_type": "markdown",
   "id": "8ebd76a3",
   "metadata": {},
   "source": [
    "## Directions"
   ]
  },
  {
   "cell_type": "code",
   "execution_count": 18,
   "id": "6975fabe",
   "metadata": {},
   "outputs": [
    {
     "name": "stdout",
     "output_type": "stream",
     "text": [
      "[1, 1, 1, 1, 1]\n",
      "[0, 1, 0, 1, 1]\n"
     ]
    }
   ],
   "source": [
    "# Training algorithm\n",
    "def train(weights, bias, features, true_labels, lr = 1, epochs = 100):\n",
    "    for _ in range(epochs):\n",
    "        for i in range(len(weights)):\n",
    "            pred = activation(weights, bias, features[i])\n",
    "            \n",
    "            for j in range(len(weights)):\n",
    "                weights[j] += lr * (true_labels[i] - pred) * features[i][j]\n",
    "            \n",
    "            bias += lr * (true_labels[i] - pred)\n",
    "            \n",
    "\n",
    "trial_weights = np.random.rand(5)\n",
    "bias = 0\n",
    "\n",
    "features = [np.random.rand(5) for i in range(5)]\n",
    "true_labels = [0, 1, 0, 1, 1]\n",
    "\n",
    "print([activation(trial_weights, bias, features[i]) for i in range(5)])\n",
    "\n",
    "train(trial_weights, bias, features, true_labels, 1, 1000)\n",
    "\n",
    "print([activation(trial_weights, bias, features[i]) for i in range(5)])"
   ]
  },
  {
   "cell_type": "markdown",
   "id": "7f085c85",
   "metadata": {},
   "source": [
    "# Complete Code \n",
    "\n",
    "Let us combine all the steps in the recipe into a single Perceptron class."
   ]
  },
  {
   "cell_type": "code",
   "execution_count": 1,
   "id": "9800d98c",
   "metadata": {},
   "outputs": [],
   "source": [
    "import numpy as np\n",
    "\n",
    "class Perceptron:\n",
    "    def __init__(self, num_features):\n",
    "        self.weights = np.random.rand(num_features)\n",
    "        self.bias = 0\n",
    "        \n",
    "    def activation(self, inputs):\n",
    "        weighted_sum = 0\n",
    "        for i in range(len(self.weights)):\n",
    "            weighted_sum += self.weights[i] * inputs[i]\n",
    "        weighted_sum += self.bias\n",
    "        \n",
    "        return 1 if weighted_sum > 0 else 0\n",
    "    \n",
    "    def train(self, features, labels, lr = 1, epochs = 100):\n",
    "        for _ in range(epochs):\n",
    "            for i in range(len(features)):\n",
    "                y_hat = self.activation(features[i])\n",
    "\n",
    "                for j in range(len(self.weights)):\n",
    "                    self.weights[j] += lr * (labels[i] - y_hat) * features[i][j]\n",
    "\n",
    "                self.bias += lr * (labels[i] - y_hat)"
   ]
  },
  {
   "cell_type": "code",
   "execution_count": 19,
   "id": "510342ba",
   "metadata": {},
   "outputs": [
    {
     "name": "stdout",
     "output_type": "stream",
     "text": [
      "[1, 1, 1, 1, 1]\n",
      "[0, 1, 0, 1, 1]\n"
     ]
    }
   ],
   "source": [
    "myPerceptron = Perceptron(5)\n",
    "test = [np.random.rand(5) for i in range(5)]\n",
    "labels = [0, 1, 0, 1, 1]\n",
    "\n",
    "print([myPerceptron.activation(test[i]) for i in range(5)])\n",
    "    \n",
    "myPerceptron.train(test, labels)\n",
    "\n",
    "print([myPerceptron.activation(test[i])for i in range(5)])"
   ]
  },
  {
   "cell_type": "code",
   "execution_count": null,
   "id": "3fcae340",
   "metadata": {},
   "outputs": [],
   "source": []
  }
 ],
 "metadata": {
  "kernelspec": {
   "display_name": "Python 3 (ipykernel)",
   "language": "python",
   "name": "python3"
  },
  "language_info": {
   "codemirror_mode": {
    "name": "ipython",
    "version": 3
   },
   "file_extension": ".py",
   "mimetype": "text/x-python",
   "name": "python",
   "nbconvert_exporter": "python",
   "pygments_lexer": "ipython3",
   "version": "3.9.12"
  }
 },
 "nbformat": 4,
 "nbformat_minor": 5
}
