{
 "cells": [
  {
   "cell_type": "markdown",
   "id": "b3c97860",
   "metadata": {},
   "source": [
    "# Perceptron Algorithm from Scratch"
   ]
  },
  {
   "cell_type": "markdown",
   "id": "127d51aa",
   "metadata": {},
   "source": [
    "## Ingredients"
   ]
  },
  {
   "cell_type": "code",
   "execution_count": 14,
   "id": "f02ea5c6",
   "metadata": {},
   "outputs": [
    {
     "data": {
      "image/png": "[encoded data removed]",
      "text/plain": [
       "<Figure size 432x288 with 1 Axes>"
      ]
     },
     "metadata": {
      "needs_background": "light"
     },
     "output_type": "display_data"
    }
   ],
   "source": [
    "import numpy as np\n",
    "import matplotlib.pyplot as plt\n",
    "\n",
    "# Class 1 points\n",
    "X1 = np.array([1.2, 0.7, 2.2, 0.75, 1.8, 2.5])\n",
    "Y1 = np.array([2.1, 1.5, 0.2, 1.75, 2, 1.4])\n",
    "\n",
    "X2 = np.array([3.2, 4.1, 3.75, 4, 3.3, 3.5])\n",
    "Y2 = np.array([4.2, 3.1, 3.75, 3.25, 3, 4])\n",
    "\n",
    "# plt.scatter(X1, Y1, c='r')\n",
    "# plt.scatter(X2, Y2, c ='b')\n",
    "# plt.show()\n",
    "\n",
    "# Condensed version (X, Y, Class)\n",
    "data = np.array([[1.2, 2.1, 1],\n",
    "                [0.7, 1.5, 1],\n",
    "                [2.2, 0.2, 1],\n",
    "                [0.75, 1.75, 1],\n",
    "                [1.8, 2, 1],\n",
    "                [2.5, 1.4, 1],\n",
    "                [3.2, 4.2, 2],\n",
    "                [4.1, 3.1, 2],\n",
    "                [3.75, 3.75, 2],\n",
    "                [4, 3.25, 2],\n",
    "                [3.3, 3, 2],\n",
    "                [3.5, 4, 2]])\n",
    "\n",
    "feature1 = data[:, 0]\n",
    "feature2 = data[:, 1]\n",
    "true_label = data[:, -1]\n",
    "\n",
    "plt.scatter(feature1[true_label==1], feature2[true_label==1], c='r')\n",
    "plt.scatter(feature1[true_label==2], feature2[true_label==2], c='b')\n",
    "plt.legend([\"Class 1\", \"Class 2\"])\n",
    "plt.show()"
   ]
  },
  {
   "cell_type": "code",
   "execution_count": 21,
   "id": "a022c60f",
   "metadata": {},
   "outputs": [
    {
     "data": {
      "image/png": "[encoded data removed]",
      "text/plain": [
       "<Figure size 432x288 with 1 Axes>"
      ]
     },
     "metadata": {
      "needs_background": "light"
     },
     "output_type": "display_data"
    }
   ],
   "source": [
    "from numpy.random import normal\n",
    "f1 = normal(size=20)\n",
    "f2 = normal(size=20)\n",
    "\n",
    "f3 = normal(loc=5, size=20)\n",
    "f4 = normal(loc=5, size=20)\n",
    "\n",
    "plt.scatter(f1, f2, c='r')\n",
    "plt.scatter(f3, f4, c='b')\n",
    "\n",
    "plt.show()"
   ]
  },
  {
   "cell_type": "code",
   "execution_count": 27,
   "id": "c771ff9c",
   "metadata": {},
   "outputs": [],
   "source": [
    "import random\n",
    "\n",
    "def make_dataset(center1, center2, num_examples):\n",
    "    dataset = list()\n",
    "    \n",
    "    f1 = normal(loc=center1, size=num_examples)\n",
    "    f2 = normal(loc=center1, size=num_examples)\n",
    "\n",
    "    f3 = normal(loc=center2, size=num_examples)\n",
    "    f4 = normal(loc=center2, size=num_examples) \n",
    "    \n",
    "    for i in range(num_examples):\n",
    "        dataset.append([f1[i], f2[i], 0])\n",
    "        dataset.append([f3[i], f4[i], 1])\n",
    "        \n",
    "    random.shuffle(dataset)\n",
    "    return np.array(dataset)"
   ]
  },
  {
   "cell_type": "code",
   "execution_count": 34,
   "id": "4341ce40",
   "metadata": {},
   "outputs": [],
   "source": [
    "myDataset = make_dataset(center1=0, center2=5, num_examples=50)"
   ]
  },
  {
   "cell_type": "code",
   "execution_count": 35,
   "id": "ffac3ed8",
   "metadata": {},
   "outputs": [],
   "source": [
    "def plot_dataset(dataset):\n",
    "    feature1 = dataset[:, 0]\n",
    "    feature2 = dataset[:, 1]\n",
    "    label = dataset[:, -1]\n",
    "    \n",
    "    plt.scatter(feature1[label==0], feature2[label==0], c='r')\n",
    "    plt.scatter(feature1[label==1], feature2[label==1], c='b')\n",
    "    plt.legend([\"Class 1\", \"Class 2\"])\n",
    "    plt.show()"
   ]
  },
  {
   "cell_type": "code",
   "execution_count": 36,
   "id": "5e41be23",
   "metadata": {},
   "outputs": [
    {
     "data": {
      "image/png": "[encoded data removed]",
      "text/plain": [
       "<Figure size 432x288 with 1 Axes>"
      ]
     },
     "metadata": {
      "needs_background": "light"
     },
     "output_type": "display_data"
    }
   ],
   "source": [
    "plot_dataset(myDataset)"
   ]
  },
  {
   "cell_type": "markdown",
   "id": "5af0b4ab",
   "metadata": {},
   "source": [
    "## Equipment"
   ]
  },
  {
   "cell_type": "code",
   "execution_count": 6,
   "id": "04bab03e",
   "metadata": {},
   "outputs": [],
   "source": [
    "def weighted_sum(weights, inputs):\n",
    "    summation = 0\n",
    "    \n",
    "    for i in range(len(weights)):\n",
    "        summation += weights[i] * inputs[i]\n",
    "        \n",
    "    return summation\n",
    "\n",
    "def threshold(summation):\n",
    "    if summation > 0:\n",
    "        return 1\n",
    "    else:\n",
    "        return 0\n",
    "    \n",
    "# Combined perceptron activation\n",
    "def activation(weights, bias, inputs):\n",
    "    weighted_sum = sum([weights[i]*inputs[i] for i in range(len(weights))]) + bias\n",
    "    return 1 if weighted_sum > 0 else 0"
   ]
  },
  {
   "cell_type": "markdown",
   "id": "8ebd76a3",
   "metadata": {},
   "source": [
    "## Directions"
   ]
  },
  {
   "cell_type": "code",
   "execution_count": 18,
   "id": "6975fabe",
   "metadata": {},
   "outputs": [
    {
     "name": "stdout",
     "output_type": "stream",
     "text": [
      "[1, 1, 1, 1, 1]\n",
      "[0, 1, 0, 1, 1]\n"
     ]
    }
   ],
   "source": [
    "# Training algorithm\n",
    "def train(weights, bias, features, true_labels, lr = 1, epochs = 100):\n",
    "    for _ in range(epochs):\n",
    "        for i in range(len(weights)):\n",
    "            pred = activation(weights, bias, features[i])\n",
    "            \n",
    "            for j in range(len(weights)):\n",
    "                weights[j] += lr * (true_labels[i] - pred) * features[i][j]\n",
    "            \n",
    "            bias += lr * (true_labels[i] - pred)\n",
    "            \n",
    "\n",
    "trial_weights = np.random.rand(5)\n",
    "bias = 0\n",
    "\n",
    "features = [np.random.rand(5) for i in range(5)]\n",
    "true_labels = [0, 1, 0, 1, 1]\n",
    "\n",
    "print([activation(trial_weights, bias, features[i]) for i in range(5)])\n",
    "\n",
    "train(trial_weights, bias, features, true_labels, 1, 1000)\n",
    "\n",
    "print([activation(trial_weights, bias, features[i]) for i in range(5)])"
   ]
  },
  {
   "cell_type": "markdown",
   "id": "7f085c85",
   "metadata": {},
   "source": [
    "# Complete Code \n",
    "\n",
    "Let us combine all the steps in the recipe into a single Perceptron class."
   ]
  },
  {
   "cell_type": "code",
   "execution_count": 1,
   "id": "9800d98c",
   "metadata": {},
   "outputs": [],
   "source": [
    "import numpy as np\n",
    "\n",
    "class Perceptron:\n",
    "    def __init__(self, num_features):\n",
    "        self.weights = np.random.rand(num_features)\n",
    "        self.bias = 0\n",
    "        \n",
    "    def activation(self, inputs):\n",
    "        weighted_sum = 0\n",
    "        for i in range(len(self.weights)):\n",
    "            weighted_sum += self.weights[i] * inputs[i]\n",
    "        weighted_sum += self.bias\n",
    "        \n",
    "        return 1 if weighted_sum > 0 else 0\n",
    "    \n",
    "    def train(self, features, labels, lr = 1, epochs = 100):\n",
    "        for _ in range(epochs):\n",
    "            for i in range(len(features)):\n",
    "                y_hat = self.activation(features[i])\n",
    "\n",
    "                for j in range(len(self.weights)):\n",
    "                    self.weights[j] += lr * (labels[i] - y_hat) * features[i][j]\n",
    "\n",
    "                self.bias += lr * (labels[i] - y_hat)"
   ]
  },
  {
   "cell_type": "code",
   "execution_count": 19,
   "id": "510342ba",
   "metadata": {},
   "outputs": [
    {
     "name": "stdout",
     "output_type": "stream",
     "text": [
      "[1, 1, 1, 1, 1]\n",
      "[0, 1, 0, 1, 1]\n"
     ]
    }
   ],
   "source": [
    "myPerceptron = Perceptron(5)\n",
    "test = [np.random.rand(5) for i in range(5)]\n",
    "labels = [0, 1, 0, 1, 1]\n",
    "\n",
    "print([myPerceptron.activation(test[i]) for i in range(5)])\n",
    "    \n",
    "myPerceptron.train(test, labels)\n",
    "\n",
    "print([myPerceptron.activation(test[i])for i in range(5)])"
   ]
  },
  {
   "cell_type": "code",
   "execution_count": null,
   "id": "3fcae340",
   "metadata": {},
   "outputs": [],
   "source": []
  }
 ],
 "metadata": {
  "kernelspec": {
   "display_name": "Python 3 (ipykernel)",
   "language": "python",
   "name": "python3"
  },
  "language_info": {
   "codemirror_mode": {
    "name": "ipython",
    "version": 3
   },
   "file_extension": ".py",
   "mimetype": "text/x-python",
   "name": "python",
   "nbconvert_exporter": "python",
   "pygments_lexer": "ipython3",
   "version": "3.9.12"
  }
 },
 "nbformat": 4,
 "nbformat_minor": 5
}
